{
 "cells": [
  {
   "metadata": {
    "ExecuteTime": {
     "end_time": "2025-10-07T16:19:17.164853Z",
     "start_time": "2025-10-07T16:19:17.161447Z"
    }
   },
   "cell_type": "code",
   "source": "\"bonjour\" == \"au revoir\"",
   "id": "fa59cfd37775b378",
   "outputs": [
    {
     "data": {
      "text/plain": [
       "False"
      ]
     },
     "execution_count": 4,
     "metadata": {},
     "output_type": "execute_result"
    }
   ],
   "execution_count": 4
  },
  {
   "metadata": {
    "ExecuteTime": {
     "end_time": "2025-10-07T16:21:59.541548Z",
     "start_time": "2025-10-07T16:21:55.412293Z"
    }
   },
   "cell_type": "code",
   "source": [
    "MAX_N = 100_000_000\n",
    "my_sum = 0\n",
    "for i in range(MAX_N):\n",
    "    my_sum += i"
   ],
   "id": "a33d081f5504226a",
   "outputs": [],
   "execution_count": 14
  },
  {
   "metadata": {
    "ExecuteTime": {
     "end_time": "2025-10-07T16:22:11.826741Z",
     "start_time": "2025-10-07T16:22:11.747410Z"
    }
   },
   "cell_type": "code",
   "source": [
    "import numpy as np\n",
    "\n",
    "np.sum(np.arange(MAX_N))"
   ],
   "id": "b464b449a6ff4afd",
   "outputs": [
    {
     "data": {
      "text/plain": [
       "np.int64(4999999950000000)"
      ]
     },
     "execution_count": 16,
     "metadata": {},
     "output_type": "execute_result"
    }
   ],
   "execution_count": 16
  },
  {
   "metadata": {},
   "cell_type": "code",
   "outputs": [],
   "execution_count": null,
   "source": "",
   "id": "b9b69f06cce4eb82"
  },
  {
   "metadata": {},
   "cell_type": "markdown",
   "source": [
    "## Exercice\n",
    "\n",
    "Faire un notebook avec des cellules en markdown où vous comparez\n",
    "les différentes méthodes de création de tableau (allant de 0 à MAX_RANGE - que vous définissez):\n",
    "- La méthode avec \"append\"\n",
    "- La méthode avec \"extend\"\n",
    "- La méthode des lists compréhension\n",
    "- La méthode du \"pre-fill\"\n",
    "- La méthode avec \"numpy\""
   ],
   "id": "8180f7dce4762089"
  }
 ],
 "metadata": {
  "kernelspec": {
   "display_name": "Python 3",
   "language": "python",
   "name": "python3"
  },
  "language_info": {
   "codemirror_mode": {
    "name": "ipython",
    "version": 2
   },
   "file_extension": ".py",
   "mimetype": "text/x-python",
   "name": "python",
   "nbconvert_exporter": "python",
   "pygments_lexer": "ipython2",
   "version": "2.7.6"
  }
 },
 "nbformat": 4,
 "nbformat_minor": 5
}
